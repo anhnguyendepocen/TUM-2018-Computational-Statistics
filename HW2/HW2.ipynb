{
 "cells": [
  {
   "cell_type": "code",
   "execution_count": 14,
   "metadata": {
    "ExecuteTime": {
     "end_time": "2019-05-21T10:34:11.893497Z",
     "start_time": "2019-05-21T10:34:11.850Z"
    }
   },
   "outputs": [],
   "source": [
    "n = 1000\n",
    "x1 = rnorm(n=n, mean=0, sd=1)\n",
    "x2 = rnorm(n=n, mean=1, sd=4)\n",
    "s = x1 + x2"
   ]
  },
  {
   "cell_type": "code",
   "execution_count": 4,
   "metadata": {
    "ExecuteTime": {
     "end_time": "2019-05-21T11:20:17.844977Z",
     "start_time": "2019-05-21T11:20:17.438Z"
    }
   },
   "outputs": [],
   "source": [
    "library(ggplot2)"
   ]
  },
  {
   "cell_type": "code",
   "execution_count": 38,
   "metadata": {
    "ExecuteTime": {
     "end_time": "2019-05-21T10:59:02.230198Z",
     "start_time": "2019-05-21T10:59:02.110Z"
    }
   },
   "outputs": [
    {
     "name": "stderr",
     "output_type": "stream",
     "text": [
      "ERROR while rich displaying an object: Error in is.finite(x): default method not implemented for type 'closure'\n",
      "\n",
      "Traceback:\n",
      "1. FUN(X[[i]], ...)\n",
      "2. tryCatch(withCallingHandlers({\n",
      " .     if (!mime %in% names(repr::mime2repr)) \n",
      " .         stop(\"No repr_* for mimetype \", mime, \" in repr::mime2repr\")\n",
      " .     rpr <- repr::mime2repr[[mime]](obj)\n",
      " .     if (is.null(rpr)) \n",
      " .         return(NULL)\n",
      " .     prepare_content(is.raw(rpr), rpr)\n",
      " . }, error = error_handler), error = outer_handler)\n",
      "3. tryCatchList(expr, classes, parentenv, handlers)\n",
      "4. tryCatchOne(expr, names, parentenv, handlers[[1L]])\n",
      "5. doTryCatch(return(expr), name, parentenv, handler)\n",
      "6. withCallingHandlers({\n",
      " .     if (!mime %in% names(repr::mime2repr)) \n",
      " .         stop(\"No repr_* for mimetype \", mime, \" in repr::mime2repr\")\n",
      " .     rpr <- repr::mime2repr[[mime]](obj)\n",
      " .     if (is.null(rpr)) \n",
      " .         return(NULL)\n",
      " .     prepare_content(is.raw(rpr), rpr)\n",
      " . }, error = error_handler)\n",
      "7. repr::mime2repr[[mime]](obj)\n",
      "8. repr_text.default(obj)\n",
      "9. paste(capture.output(print(obj)), collapse = \"\\n\")\n",
      "10. capture.output(print(obj))\n",
      "11. evalVis(expr)\n",
      "12. withVisible(eval(expr, pf))\n",
      "13. eval(expr, pf)\n",
      "14. eval(expr, pf)\n",
      "15. print(obj)\n",
      "16. print.ggplot(obj)\n",
      "17. ggplot_build(x)\n",
      "18. ggplot_build.ggplot(x)\n",
      "19. by_layer(function(l, d) l$map_statistic(d, plot))\n",
      "20. f(l = layers[[i]], d = data[[i]])\n",
      "21. l$map_statistic(d, plot)\n",
      "22. f(..., self = self)\n",
      "23. scales_transform_df(plot$scales, stat_data)\n",
      "24. unlist(lapply(scales$scales, function(s) s$transform_df(df = df)), \n",
      "  .     recursive = FALSE)\n",
      "25. lapply(scales$scales, function(s) s$transform_df(df = df))\n",
      "26. FUN(X[[i]], ...)\n",
      "27. s$transform_df(df = df)\n",
      "28. f(..., self = self)\n",
      "29. lapply(df[aesthetics], self$transform)\n",
      "30. FUN(X[[i]], ...)\n",
      "31. f(..., self = self)\n"
     ]
    },
    {
     "data": {
      "image/png": "[encoded data removed]",
      "text/plain": [
       "plot without title"
      ]
     },
     "metadata": {},
     "output_type": "display_data"
    }
   ],
   "source": [
    "ggplot(data = data.frame(s), mapping=aes(x=s, y=stat(density))) + geom_histogram(mapping = aes(y=stat(density)), binwidth = 1) + geom_vline(aes(xintercept=1, color='red')) + stat_function(fun=dnorm, args=list(mean=4, sd=sqrt(2)), size=1)"
   ]
  },
  {
   "cell_type": "markdown",
   "metadata": {
    "ExecuteTime": {
     "end_time": "2019-05-21T11:21:04.965068Z",
     "start_time": "2019-05-21T11:21:04.944Z"
    }
   },
   "source": [
    "# Problem 2"
   ]
  },
  {
   "cell_type": "code",
   "execution_count": 59,
   "metadata": {
    "ExecuteTime": {
     "end_time": "2019-05-21T11:12:53.015451Z",
     "start_time": "2019-05-21T11:12:52.982Z"
    }
   },
   "outputs": [],
   "source": [
    "probs = c(0.1,0.4,0.6,0.8)"
   ]
  },
  {
   "cell_type": "code",
   "execution_count": 5,
   "metadata": {
    "ExecuteTime": {
     "end_time": "2019-05-21T11:20:21.086154Z",
     "start_time": "2019-05-21T11:20:21.035Z"
    }
   },
   "outputs": [],
   "source": [
    "x1 = rnorm(n=1000, mean=0, sd=1)\n",
    "x2 = rnorm(n=1000, mean=1, sd=4)\n",
    "i = rbinom(n = 1000, prob=0.4, size=1)\n",
    "s=x1*i+x2*(1-i)"
   ]
  },
  {
   "cell_type": "code",
   "execution_count": 6,
   "metadata": {
    "ExecuteTime": {
     "end_time": "2019-05-21T11:20:21.861420Z",
     "start_time": "2019-05-21T11:20:21.427Z"
    }
   },
   "outputs": [
    {
     "name": "stderr",
     "output_type": "stream",
     "text": [
      "Warning message:\n",
      "“Ignoring unknown parameters: binwidth”"
     ]
    },
    {
     "data": {
      "image/png": "[encoded data removed]",
      "text/plain": [
       "plot without title"
      ]
     },
     "metadata": {},
     "output_type": "display_data"
    }
   ],
   "source": [
    "ggplot(data = data.frame(s), mapping=aes(x=s, y=stat(density))) + geom_density(binwidth = 1)"
   ]
  },
  {
   "cell_type": "markdown",
   "metadata": {},
   "source": [
    "# Problem4"
   ]
  },
  {
   "cell_type": "code",
   "execution_count": 15,
   "metadata": {
    "ExecuteTime": {
     "end_time": "2019-05-21T11:44:32.185768Z",
     "start_time": "2019-05-21T11:44:32.135Z"
    }
   },
   "outputs": [],
   "source": [
    "n=200\n",
    "mu=c(1,3,0)\n",
    "\n",
    "sigma=matrix(c(1.0, -0.8, -0.5,\n",
    "               -0.8, 1.0,  0.2,\n",
    "               -0.8, 1.0,  0.2), 3 , 3)"
   ]
  },
  {
   "cell_type": "code",
   "execution_count": 13,
   "metadata": {
    "ExecuteTime": {
     "end_time": "2019-05-21T11:41:02.221966Z",
     "start_time": "2019-05-21T11:41:02.175Z"
    }
   },
   "outputs": [
    {
     "data": {
      "text/html": [
       "<table>\n",
       "<caption>A matrix: 3 × 3 of type dbl</caption>\n",
       "<tbody>\n",
       "\t<tr><td> 1.0</td><td>-0.8</td><td>-0.8</td></tr>\n",
       "\t<tr><td>-0.8</td><td> 1.0</td><td> 1.0</td></tr>\n",
       "\t<tr><td>-0.5</td><td> 0.2</td><td> 0.2</td></tr>\n",
       "</tbody>\n",
       "</table>\n"
      ],
      "text/latex": [
       "A matrix: 3 × 3 of type dbl\n",
       "\\begin{tabular}{lll}\n",
       "\t  1.0 & -0.8 & -0.8\\\\\n",
       "\t -0.8 &  1.0 &  1.0\\\\\n",
       "\t -0.5 &  0.2 &  0.2\\\\\n",
       "\\end{tabular}\n"
      ],
      "text/markdown": [
       "\n",
       "A matrix: 3 × 3 of type dbl\n",
       "\n",
       "|  1.0 | -0.8 | -0.8 |\n",
       "| -0.8 |  1.0 |  1.0 |\n",
       "| -0.5 |  0.2 |  0.2 |\n",
       "\n"
      ],
      "text/plain": [
       "     [,1] [,2] [,3]\n",
       "[1,]  1.0 -0.8 -0.8\n",
       "[2,] -0.8  1.0  1.0\n",
       "[3,] -0.5  0.2  0.2"
      ]
     },
     "metadata": {},
     "output_type": "display_data"
    }
   ],
   "source": [
    "sigma"
   ]
  },
  {
   "cell_type": "code",
   "execution_count": null,
   "metadata": {},
   "outputs": [],
   "source": []
  }
 ],
 "metadata": {
  "hide_input": false,
  "kernelspec": {
   "display_name": "R",
   "language": "R",
   "name": "ir"
  },
  "language_info": {
   "codemirror_mode": "r",
   "file_extension": ".r",
   "mimetype": "text/x-r-source",
   "name": "R",
   "pygments_lexer": "r",
   "version": "3.5.2"
  }
 },
 "nbformat": 4,
 "nbformat_minor": 2
}
