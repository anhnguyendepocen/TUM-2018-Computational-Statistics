{
 "cells": [
  {
   "cell_type": "markdown",
   "metadata": {},
   "source": [
    "### Problem 1"
   ]
  },
  {
   "cell_type": "markdown",
   "metadata": {},
   "source": [
    "### a) "
   ]
  },
  {
   "cell_type": "code",
   "execution_count": 4,
   "metadata": {
    "ExecuteTime": {
     "end_time": "2019-07-17T06:55:28.942213Z",
     "start_time": "2019-07-17T06:55:28.901Z"
    }
   },
   "outputs": [],
   "source": [
    "n = 10\n",
    "B = 200\n",
    "lambda.hat = numeric(B)"
   ]
  },
  {
   "cell_type": "code",
   "execution_count": 5,
   "metadata": {
    "ExecuteTime": {
     "end_time": "2019-07-17T06:55:29.316573Z",
     "start_time": "2019-07-17T06:55:29.283Z"
    }
   },
   "outputs": [],
   "source": [
    "for (b in 1:B){\n",
    "    x.samples = rexp(n, rate = 0.001)\n",
    "    lambda.hat = 1/mean(x.samples)\n",
    "}"
   ]
  },
  {
   "cell_type": "code",
   "execution_count": 6,
   "metadata": {
    "ExecuteTime": {
     "end_time": "2019-07-17T06:55:29.659041Z",
     "start_time": "2019-07-17T06:55:29.626Z"
    }
   },
   "outputs": [
    {
     "data": {
      "text/html": [
       "0.000400353134659614"
      ],
      "text/latex": [
       "0.000400353134659614"
      ],
      "text/markdown": [
       "0.000400353134659614"
      ],
      "text/plain": [
       "[1] 0.0004003531"
      ]
     },
     "metadata": {},
     "output_type": "display_data"
    }
   ],
   "source": [
    "# -0.001 BECAUSE WE KNOW ORIGINAL DISTRIBUTION\n",
    "bias.b = mean(lambda.hat) - 0.001\n",
    "bias.b"
   ]
  },
  {
   "cell_type": "code",
   "execution_count": 7,
   "metadata": {
    "ExecuteTime": {
     "end_time": "2019-07-17T06:55:30.039577Z",
     "start_time": "2019-07-17T06:55:30.006Z"
    }
   },
   "outputs": [
    {
     "data": {
      "text/html": [
       "1.60282632431779e-08"
      ],
      "text/latex": [
       "1.60282632431779e-08"
      ],
      "text/markdown": [
       "1.60282632431779e-08"
      ],
      "text/plain": [
       "[1] 1.602826e-08"
      ]
     },
     "metadata": {},
     "output_type": "display_data"
    }
   ],
   "source": [
    "mse.b = sum((lambda.hat - 0.001)^2)/n\n",
    "mse.b"
   ]
  },
  {
   "cell_type": "markdown",
   "metadata": {
    "ExecuteTime": {
     "end_time": "2019-06-18T10:47:34.288904Z",
     "start_time": "2019-06-18T10:47:34.260Z"
    }
   },
   "source": [
    "### b) "
   ]
  },
  {
   "cell_type": "code",
   "execution_count": 19,
   "metadata": {
    "ExecuteTime": {
     "end_time": "2019-07-17T07:00:10.246096Z",
     "start_time": "2019-07-17T07:00:10.225Z"
    }
   },
   "outputs": [],
   "source": [
    "times = rexp(10, rate=0.001)"
   ]
  },
  {
   "cell_type": "code",
   "execution_count": 23,
   "metadata": {
    "ExecuteTime": {
     "end_time": "2019-07-17T07:00:36.301232Z",
     "start_time": "2019-07-17T07:00:36.254Z"
    }
   },
   "outputs": [],
   "source": [
    "for (b in 1:B){\n",
    "       lambda.hat[b] = -1/mean(sample(times, size = n, replace = TRUE))\n",
    "}"
   ]
  },
  {
   "cell_type": "code",
   "execution_count": 24,
   "metadata": {
    "ExecuteTime": {
     "end_time": "2019-07-17T07:00:36.923956Z",
     "start_time": "2019-07-17T07:00:36.889Z"
    }
   },
   "outputs": [
    {
     "data": {
      "text/html": [
       "-0.00142339194330033"
      ],
      "text/latex": [
       "-0.00142339194330033"
      ],
      "text/markdown": [
       "-0.00142339194330033"
      ],
      "text/plain": [
       "[1] -0.001423392"
      ]
     },
     "metadata": {},
     "output_type": "display_data"
    }
   ],
   "source": [
    "# mle(lambda.hat) BECAUSE WE DONT KNOW DISTRIBUTION\n",
    "mle.exp = 1/mean(times)\n",
    "bias.c = mean(lambda.hat) - mle.exp\n",
    "bias.c"
   ]
  },
  {
   "cell_type": "code",
   "execution_count": 25,
   "metadata": {
    "ExecuteTime": {
     "end_time": "2019-07-17T07:00:37.376590Z",
     "start_time": "2019-07-17T07:00:37.343Z"
    }
   },
   "outputs": [
    {
     "data": {
      "text/html": [
       "0.000181683355680077"
      ],
      "text/latex": [
       "0.000181683355680077"
      ],
      "text/markdown": [
       "0.000181683355680077"
      ],
      "text/plain": [
       "[1] 0.0001816834"
      ]
     },
     "metadata": {},
     "output_type": "display_data"
    }
   ],
   "source": [
    "sd.hat = sd(lambda.hat)\n",
    "sd.hat"
   ]
  },
  {
   "cell_type": "markdown",
   "metadata": {},
   "source": [
    "### Problem 2"
   ]
  },
  {
   "cell_type": "markdown",
   "metadata": {},
   "source": [
    "### b)"
   ]
  },
  {
   "cell_type": "code",
   "execution_count": 81,
   "metadata": {
    "ExecuteTime": {
     "end_time": "2019-07-17T08:56:17.358057Z",
     "start_time": "2019-07-17T08:56:17.319Z"
    }
   },
   "outputs": [],
   "source": [
    "height = c(173,183,187,179,180,186,179,196,202,198,197,185,194,185,191,182,182,187,184,186)\n",
    "number_of_elements = length(height)\n",
    "mean_height = mean(height)"
   ]
  },
  {
   "cell_type": "code",
   "execution_count": 38,
   "metadata": {
    "ExecuteTime": {
     "end_time": "2019-07-17T08:13:01.121080Z",
     "start_time": "2019-07-17T08:13:01.084Z"
    }
   },
   "outputs": [],
   "source": [
    "intervals = seq(min(height), max(height), 5)\n",
    "height_ecdf = numeric(length(intervals))"
   ]
  },
  {
   "cell_type": "code",
   "execution_count": 47,
   "metadata": {
    "ExecuteTime": {
     "end_time": "2019-07-17T08:17:27.926549Z",
     "start_time": "2019-07-17T08:17:27.879Z"
    }
   },
   "outputs": [],
   "source": [
    "for (i in 1:length(intervals)){\n",
    "    height_ecdf[i] = sum(height < intervals[i])/number_of_elements\n",
    "}"
   ]
  },
  {
   "cell_type": "code",
   "execution_count": 49,
   "metadata": {
    "ExecuteTime": {
     "end_time": "2019-07-17T08:19:05.708622Z",
     "start_time": "2019-07-17T08:19:05.664Z"
    }
   },
   "outputs": [
    {
     "data": {
      "text/html": [
       "<ol class=list-inline>\n",
       "\t<li>0</li>\n",
       "\t<li>0.05</li>\n",
       "\t<li>0.3</li>\n",
       "\t<li>0.7</li>\n",
       "\t<li>0.75</li>\n",
       "\t<li>0.9</li>\n",
       "\t<li>1</li>\n",
       "</ol>\n"
      ],
      "text/latex": [
       "\\begin{enumerate*}\n",
       "\\item 0\n",
       "\\item 0.05\n",
       "\\item 0.3\n",
       "\\item 0.7\n",
       "\\item 0.75\n",
       "\\item 0.9\n",
       "\\item 1\n",
       "\\end{enumerate*}\n"
      ],
      "text/markdown": [
       "1. 0\n",
       "2. 0.05\n",
       "3. 0.3\n",
       "4. 0.7\n",
       "5. 0.75\n",
       "6. 0.9\n",
       "7. 1\n",
       "\n",
       "\n"
      ],
      "text/plain": [
       "[1] 0.00 0.05 0.30 0.70 0.75 0.90 1.00"
      ]
     },
     "metadata": {},
     "output_type": "display_data"
    }
   ],
   "source": [
    "height_ecdf = c(height_ecdf, 1)\n",
    "height_ecdf"
   ]
  },
  {
   "cell_type": "code",
   "execution_count": 50,
   "metadata": {
    "ExecuteTime": {
     "end_time": "2019-07-17T08:19:12.287763Z",
     "start_time": "2019-07-17T08:19:12.240Z"
    }
   },
   "outputs": [
    {
     "data": {
      "text/html": [
       "<ol class=list-inline>\n",
       "\t<li>173</li>\n",
       "\t<li>178</li>\n",
       "\t<li>183</li>\n",
       "\t<li>188</li>\n",
       "\t<li>193</li>\n",
       "\t<li>198</li>\n",
       "</ol>\n"
      ],
      "text/latex": [
       "\\begin{enumerate*}\n",
       "\\item 173\n",
       "\\item 178\n",
       "\\item 183\n",
       "\\item 188\n",
       "\\item 193\n",
       "\\item 198\n",
       "\\end{enumerate*}\n"
      ],
      "text/markdown": [
       "1. 173\n",
       "2. 178\n",
       "3. 183\n",
       "4. 188\n",
       "5. 193\n",
       "6. 198\n",
       "\n",
       "\n"
      ],
      "text/plain": [
       "[1] 173 178 183 188 193 198"
      ]
     },
     "metadata": {},
     "output_type": "display_data"
    }
   ],
   "source": [
    "integvals"
   ]
  },
  {
   "cell_type": "code",
   "execution_count": 65,
   "metadata": {
    "ExecuteTime": {
     "end_time": "2019-07-17T08:49:31.952867Z",
     "start_time": "2019-07-17T08:49:31.917Z"
    }
   },
   "outputs": [],
   "source": [
    "B = 200 \n",
    "mean_vals = numeric(B)\n",
    "alpha = 0.05"
   ]
  },
  {
   "cell_type": "code",
   "execution_count": 66,
   "metadata": {
    "ExecuteTime": {
     "end_time": "2019-07-17T08:49:32.458041Z",
     "start_time": "2019-07-17T08:49:32.423Z"
    }
   },
   "outputs": [],
   "source": [
    "for (i in 1:B){\n",
    "    mean_vals[i] = mean(sample(height, number_of_elements, replace = TRUE))\n",
    "}"
   ]
  },
  {
   "cell_type": "code",
   "execution_count": 67,
   "metadata": {
    "ExecuteTime": {
     "end_time": "2019-07-17T08:49:32.850448Z",
     "start_time": "2019-07-17T08:49:32.819Z"
    }
   },
   "outputs": [
    {
     "data": {
      "text/html": [
       "186.85925"
      ],
      "text/latex": [
       "186.85925"
      ],
      "text/markdown": [
       "186.85925"
      ],
      "text/plain": [
       "[1] 186.8593"
      ]
     },
     "metadata": {},
     "output_type": "display_data"
    }
   ],
   "source": [
    "theta_hat = mean(mean_vals)\n",
    "theta_hat"
   ]
  },
  {
   "cell_type": "code",
   "execution_count": 68,
   "metadata": {
    "ExecuteTime": {
     "end_time": "2019-07-17T08:49:33.517719Z",
     "start_time": "2019-07-17T08:49:33.489Z"
    }
   },
   "outputs": [
    {
     "data": {
      "text/html": [
       "1.70084281132744"
      ],
      "text/latex": [
       "1.70084281132744"
      ],
      "text/markdown": [
       "1.70084281132744"
      ],
      "text/plain": [
       "[1] 1.700843"
      ]
     },
     "metadata": {},
     "output_type": "display_data"
    }
   ],
   "source": [
    "ste = sd(mean_vals)\n",
    "ste"
   ]
  },
  {
   "cell_type": "markdown",
   "metadata": {},
   "source": [
    "#### Standart normal bootstrap"
   ]
  },
  {
   "cell_type": "code",
   "execution_count": 82,
   "metadata": {
    "ExecuteTime": {
     "end_time": "2019-07-17T08:56:29.834850Z",
     "start_time": "2019-07-17T08:56:29.796Z"
    }
   },
   "outputs": [
    {
     "data": {
      "text/html": [
       "<ol class=list-inline>\n",
       "\t<li>183.466409346434</li>\n",
       "\t<li>190.133590653566</li>\n",
       "</ol>\n"
      ],
      "text/latex": [
       "\\begin{enumerate*}\n",
       "\\item 183.466409346434\n",
       "\\item 190.133590653566\n",
       "\\end{enumerate*}\n"
      ],
      "text/markdown": [
       "1. 183.466409346434\n",
       "2. 190.133590653566\n",
       "\n",
       "\n"
      ],
      "text/plain": [
       "[1] 183.4664 190.1336"
      ]
     },
     "metadata": {},
     "output_type": "display_data"
    }
   ],
   "source": [
    "mean_height + qnorm(c(alpha/2, 1-alpha/2))*ste"
   ]
  },
  {
   "cell_type": "markdown",
   "metadata": {},
   "source": [
    "#### Basic bootstrap"
   ]
  },
  {
   "cell_type": "code",
   "execution_count": 88,
   "metadata": {
    "ExecuteTime": {
     "end_time": "2019-07-17T08:58:45.987226Z",
     "start_time": "2019-07-17T08:58:45.938Z"
    }
   },
   "outputs": [
    {
     "data": {
      "text/html": [
       "<dl class=dl-horizontal>\n",
       "\t<dt>97.5%</dt>\n",
       "\t\t<dd>183.55</dd>\n",
       "\t<dt>2.5%</dt>\n",
       "\t\t<dd>190.205</dd>\n",
       "</dl>\n"
      ],
      "text/latex": [
       "\\begin{description*}\n",
       "\\item[97.5\\textbackslash{}\\%] 183.55\n",
       "\\item[2.5\\textbackslash{}\\%] 190.205\n",
       "\\end{description*}\n"
      ],
      "text/markdown": [
       "97.5%\n",
       ":   183.552.5%\n",
       ":   190.205\n",
       "\n"
      ],
      "text/plain": [
       "  97.5%    2.5% \n",
       "183.550 190.205 "
      ]
     },
     "metadata": {},
     "output_type": "display_data"
    }
   ],
   "source": [
    "2*mean_height - quantile(mean_vals, c(1-alpha/2, alpha/2))"
   ]
  },
  {
   "cell_type": "markdown",
   "metadata": {
    "ExecuteTime": {
     "end_time": "2019-07-17T08:57:42.212288Z",
     "start_time": "2019-07-17T08:57:42.171Z"
    }
   },
   "source": [
    "#### Bootstrap percentile"
   ]
  },
  {
   "cell_type": "code",
   "execution_count": 91,
   "metadata": {
    "ExecuteTime": {
     "end_time": "2019-07-17T09:00:54.488835Z",
     "start_time": "2019-07-17T09:00:54.445Z"
    }
   },
   "outputs": [
    {
     "data": {
      "text/html": [
       "<dl class=dl-horizontal>\n",
       "\t<dt>2.5%</dt>\n",
       "\t\t<dd>183.395</dd>\n",
       "\t<dt>97.5%</dt>\n",
       "\t\t<dd>190.05</dd>\n",
       "</dl>\n"
      ],
      "text/latex": [
       "\\begin{description*}\n",
       "\\item[2.5\\textbackslash{}\\%] 183.395\n",
       "\\item[97.5\\textbackslash{}\\%] 190.05\n",
       "\\end{description*}\n"
      ],
      "text/markdown": [
       "2.5%\n",
       ":   183.39597.5%\n",
       ":   190.05\n",
       "\n"
      ],
      "text/plain": [
       "   2.5%   97.5% \n",
       "183.395 190.050 "
      ]
     },
     "metadata": {},
     "output_type": "display_data"
    }
   ],
   "source": [
    "quantile(mean_vals, c(alpha/2, 1 - alpha/2))"
   ]
  },
  {
   "cell_type": "markdown",
   "metadata": {},
   "source": [
    "#### Bootstrap t"
   ]
  },
  {
   "cell_type": "code",
   "execution_count": 107,
   "metadata": {
    "ExecuteTime": {
     "end_time": "2019-07-17T10:23:50.141511Z",
     "start_time": "2019-07-17T10:23:50.102Z"
    }
   },
   "outputs": [],
   "source": [
    "theta.hat = numeric(B)\n",
    "t.values = numeric(B)"
   ]
  },
  {
   "cell_type": "code",
   "execution_count": 111,
   "metadata": {
    "ExecuteTime": {
     "end_time": "2019-07-17T10:25:36.817487Z",
     "start_time": "2019-07-17T10:25:36.151Z"
    }
   },
   "outputs": [],
   "source": [
    "for (i in 1:B) {\n",
    "    sampled_data = sample(height, number_of_elements, replace = TRUE)\n",
    "    theta.hat[i] = mean(sampled_data)\n",
    "    theta.hat.rep = numeric(B)\n",
    "    for (j in 1:B) {\n",
    "        theta.hat.rep[j] = mean(sample(sampled_data, number_of_elements, replace = TRUE))\n",
    "    }   \n",
    "    t.values[i] = (theta.hat[i] - mean_height)/sd(theta.hat.rep)\n",
    "}"
   ]
  },
  {
   "cell_type": "code",
   "execution_count": 112,
   "metadata": {
    "ExecuteTime": {
     "end_time": "2019-07-17T10:25:36.843823Z",
     "start_time": "2019-07-17T10:25:36.731Z"
    }
   },
   "outputs": [
    {
     "data": {
      "text/html": [
       "<dl class=dl-horizontal>\n",
       "\t<dt>97.5%</dt>\n",
       "\t\t<dd>183.851424023631</dd>\n",
       "\t<dt>2.5%</dt>\n",
       "\t\t<dd>190.79155811108</dd>\n",
       "</dl>\n"
      ],
      "text/latex": [
       "\\begin{description*}\n",
       "\\item[97.5\\textbackslash{}\\%] 183.851424023631\n",
       "\\item[2.5\\textbackslash{}\\%] 190.79155811108\n",
       "\\end{description*}\n"
      ],
      "text/markdown": [
       "97.5%\n",
       ":   183.8514240236312.5%\n",
       ":   190.79155811108\n",
       "\n"
      ],
      "text/plain": [
       "   97.5%     2.5% \n",
       "183.8514 190.7916 "
      ]
     },
     "metadata": {},
     "output_type": "display_data"
    }
   ],
   "source": [
    "mean_height - quantile(t.values, c(1-alpha/2, alpha/2))*ste"
   ]
  },
  {
   "cell_type": "markdown",
   "metadata": {},
   "source": [
    "\n",
    "### Problem 3"
   ]
  },
  {
   "cell_type": "code",
   "execution_count": 116,
   "metadata": {
    "ExecuteTime": {
     "end_time": "2019-07-17T10:36:38.552569Z",
     "start_time": "2019-07-17T10:36:38.508Z"
    }
   },
   "outputs": [],
   "source": [
    "N = 10\n",
    "n_a = n_b = N \n",
    "B = 200\n",
    "I_b = 0 "
   ]
  },
  {
   "cell_type": "markdown",
   "metadata": {},
   "source": [
    "### a)"
   ]
  },
  {
   "cell_type": "code",
   "execution_count": 120,
   "metadata": {
    "ExecuteTime": {
     "end_time": "2019-07-17T10:41:16.788363Z",
     "start_time": "2019-07-17T10:41:16.687Z"
    }
   },
   "outputs": [],
   "source": [
    "for (b in 1:B){\n",
    "    X_a = rnorm(n = n_a, mean = 0, sd = 1)\n",
    "    X_b = rnorm(n = n_b, mean = 0, sd = 1)\n",
    "    var_a = var(X_a)\n",
    "    var_b = var(X_b)\n",
    "    s_p = ((n_a - 1)*var_a^2 + (n_b - 1)*var_b^2)/(n_a + n_b - 2)\n",
    "    t = (mean(X_a) - mean(X_b)) / (s_p*sqrt(1/n_a+1/n_b))\n",
    "    if (t < qt(1-alpha/2, df = n_a + n_b -2)){\n",
    "            I_b = I_b + 1\n",
    "    }\n",
    "}"
   ]
  },
  {
   "cell_type": "code",
   "execution_count": 122,
   "metadata": {
    "ExecuteTime": {
     "end_time": "2019-07-17T10:41:25.943121Z",
     "start_time": "2019-07-17T10:41:25.904Z"
    }
   },
   "outputs": [
    {
     "data": {
      "text/html": [
       "0.92"
      ],
      "text/latex": [
       "0.92"
      ],
      "text/markdown": [
       "0.92"
      ],
      "text/plain": [
       "[1] 0.92"
      ]
     },
     "metadata": {},
     "output_type": "display_data"
    }
   ],
   "source": [
    "I_b / B"
   ]
  },
  {
   "cell_type": "code",
   "execution_count": null,
   "metadata": {},
   "outputs": [],
   "source": []
  }
 ],
 "metadata": {
  "hide_input": false,
  "kernelspec": {
   "display_name": "R",
   "language": "R",
   "name": "ir"
  },
  "language_info": {
   "codemirror_mode": "r",
   "file_extension": ".r",
   "mimetype": "text/x-r-source",
   "name": "R",
   "pygments_lexer": "r",
   "version": "3.5.2"
  }
 },
 "nbformat": 4,
 "nbformat_minor": 2
}
