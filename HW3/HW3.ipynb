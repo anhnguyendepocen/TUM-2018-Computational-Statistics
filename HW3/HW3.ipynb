{
 "cells": [
  {
   "cell_type": "markdown",
   "metadata": {},
   "source": [
    "## Problem 1"
   ]
  },
  {
   "cell_type": "markdown",
   "metadata": {},
   "source": [
    "### b)"
   ]
  },
  {
   "cell_type": "code",
   "execution_count": 7,
   "metadata": {
    "ExecuteTime": {
     "end_time": "2019-06-12T06:48:54.912453Z",
     "start_time": "2019-06-12T06:48:54.871Z"
    }
   },
   "outputs": [],
   "source": [
    "n = 100\n",
    "X = runif(n=n, min = 0, max = 0.5)\n",
    "m = length(X)\n",
    "f_x = function(x) {exp(-x)}"
   ]
  },
  {
   "cell_type": "code",
   "execution_count": 10,
   "metadata": {
    "ExecuteTime": {
     "end_time": "2019-06-12T06:49:40.094444Z",
     "start_time": "2019-06-12T06:49:40.054Z"
    }
   },
   "outputs": [
    {
     "data": {
      "text/html": [
       "0.391236858059427"
      ],
      "text/latex": [
       "0.391236858059427"
      ],
      "text/markdown": [
       "0.391236858059427"
      ],
      "text/plain": [
       "[1] 0.3912369"
      ]
     },
     "metadata": {},
     "output_type": "display_data"
    }
   ],
   "source": [
    "theta = 0.5*mean(sapply(X = X, FUN = f_x)) \n",
    "theta"
   ]
  },
  {
   "cell_type": "code",
   "execution_count": 14,
   "metadata": {
    "ExecuteTime": {
     "end_time": "2019-06-12T06:50:48.224278Z",
     "start_time": "2019-06-12T06:50:48.168Z"
    }
   },
   "outputs": [
    {
     "data": {
      "text/html": [
       "3.24144700681597e-05"
      ],
      "text/latex": [
       "3.24144700681597e-05"
      ],
      "text/markdown": [
       "3.24144700681597e-05"
      ],
      "text/plain": [
       "[1] 3.241447e-05"
      ]
     },
     "metadata": {},
     "output_type": "display_data"
    }
   ],
   "source": [
    "var_theta = var(0.5* sapply(X = X, FUN = f_x))/m\n",
    "var_theta"
   ]
  },
  {
   "cell_type": "code",
   "execution_count": null,
   "metadata": {},
   "outputs": [],
   "source": []
  }
 ],
 "metadata": {
  "hide_input": false,
  "kernelspec": {
   "display_name": "R",
   "language": "R",
   "name": "ir"
  },
  "language_info": {
   "codemirror_mode": "r",
   "file_extension": ".r",
   "mimetype": "text/x-r-source",
   "name": "R",
   "pygments_lexer": "r",
   "version": "3.5.2"
  }
 },
 "nbformat": 4,
 "nbformat_minor": 2
}
