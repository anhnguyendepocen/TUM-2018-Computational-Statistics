{
 "cells": [
  {
   "cell_type": "code",
   "execution_count": 109,
   "metadata": {
    "ExecuteTime": {
     "end_time": "2019-07-16T16:28:56.344384Z",
     "start_time": "2019-07-16T16:28:56.293Z"
    }
   },
   "outputs": [
    {
     "name": "stderr",
     "output_type": "stream",
     "text": [
      "The following objects are masked from ironslag (pos = 3):\n",
      "\n",
      "    chemical, magnetic\n",
      "\n",
      "The following objects are masked from ironslag (pos = 4):\n",
      "\n",
      "    chemical, magnetic\n",
      "\n"
     ]
    }
   ],
   "source": [
    "library(ggplot2)\n",
    "library(DAAG)\n",
    "attach(ironslag)"
   ]
  },
  {
   "cell_type": "markdown",
   "metadata": {},
   "source": [
    "### Problem 1"
   ]
  },
  {
   "cell_type": "code",
   "execution_count": 12,
   "metadata": {
    "ExecuteTime": {
     "end_time": "2019-07-16T14:15:57.141095Z",
     "start_time": "2019-07-16T14:15:57.100Z"
    }
   },
   "outputs": [],
   "source": [
    "x = c(12, 17, 14, 9)\n",
    "y = c(23, 18, 26, 21)\n",
    "all = union(x, y)"
   ]
  },
  {
   "cell_type": "code",
   "execution_count": 5,
   "metadata": {
    "ExecuteTime": {
     "end_time": "2019-07-16T14:12:18.995679Z",
     "start_time": "2019-07-16T14:12:18.960Z"
    }
   },
   "outputs": [],
   "source": [
    "mean_diff = abs(mean(x) - mean(y))"
   ]
  },
  {
   "cell_type": "code",
   "execution_count": 2,
   "metadata": {
    "ExecuteTime": {
     "end_time": "2019-07-16T14:08:15.960210Z",
     "start_time": "2019-07-16T14:08:15.802Z"
    }
   },
   "outputs": [],
   "source": [
    "library(gtools)"
   ]
  },
  {
   "cell_type": "code",
   "execution_count": 40,
   "metadata": {
    "ExecuteTime": {
     "end_time": "2019-07-16T14:25:34.364362Z",
     "start_time": "2019-07-16T14:25:34.310Z"
    }
   },
   "outputs": [],
   "source": [
    "perm = combinations(8, 4)\n",
    "perm_diff = numeric(nrow(perm))\n",
    "\n",
    "for (i in 1:nrow(perm)){\n",
    "    perm_diff[i] = mean(all[perm[i,]]) - mean(all[-perm[i,]])\n",
    "}"
   ]
  },
  {
   "cell_type": "code",
   "execution_count": 41,
   "metadata": {
    "ExecuteTime": {
     "end_time": "2019-07-16T14:25:43.237464Z",
     "start_time": "2019-07-16T14:25:43.211Z"
    }
   },
   "outputs": [],
   "source": [
    "asl = mean(perm_diff >= mean_diff)"
   ]
  },
  {
   "cell_type": "code",
   "execution_count": 42,
   "metadata": {
    "ExecuteTime": {
     "end_time": "2019-07-16T14:25:46.183849Z",
     "start_time": "2019-07-16T14:25:46.148Z"
    }
   },
   "outputs": [
    {
     "data": {
      "text/html": [
       "0.0142857142857143"
      ],
      "text/latex": [
       "0.0142857142857143"
      ],
      "text/markdown": [
       "0.0142857142857143"
      ],
      "text/plain": [
       "[1] 0.01428571"
      ]
     },
     "metadata": {},
     "output_type": "display_data"
    }
   ],
   "source": [
    "asl"
   ]
  },
  {
   "cell_type": "markdown",
   "metadata": {
    "ExecuteTime": {
     "end_time": "2019-07-01T17:08:20.691250Z",
     "start_time": "2019-07-01T17:08:20.562Z"
    }
   },
   "source": [
    "### Problem 2"
   ]
  },
  {
   "cell_type": "markdown",
   "metadata": {
    "ExecuteTime": {
     "end_time": "2019-07-01T17:26:45.535996Z",
     "start_time": "2019-07-01T17:26:45.509Z"
    }
   },
   "source": [
    "#### b) "
   ]
  },
  {
   "cell_type": "code",
   "execution_count": 43,
   "metadata": {
    "ExecuteTime": {
     "end_time": "2019-07-16T14:30:50.116802Z",
     "start_time": "2019-07-16T14:30:49.940Z"
    }
   },
   "outputs": [],
   "source": [
    "aov.chicks = aov(chickwts$weight~chickwts$feed)"
   ]
  },
  {
   "cell_type": "code",
   "execution_count": 44,
   "metadata": {
    "ExecuteTime": {
     "end_time": "2019-07-16T14:31:45.957591Z",
     "start_time": "2019-07-16T14:31:45.834Z"
    }
   },
   "outputs": [
    {
     "data": {
      "text/plain": [
       "Call:\n",
       "   aov(formula = chickwts$weight ~ chickwts$feed)\n",
       "\n",
       "Terms:\n",
       "                chickwts$feed Residuals\n",
       "Sum of Squares       231129.2  195556.0\n",
       "Deg. of Freedom             5        65\n",
       "\n",
       "Residual standard error: 54.85029\n",
       "Estimated effects may be unbalanced"
      ]
     },
     "metadata": {},
     "output_type": "display_data"
    }
   ],
   "source": [
    "aov.chicks"
   ]
  },
  {
   "cell_type": "code",
   "execution_count": 66,
   "metadata": {
    "ExecuteTime": {
     "end_time": "2019-07-16T14:51:50.822473Z",
     "start_time": "2019-07-16T14:51:50.778Z"
    }
   },
   "outputs": [
    {
     "data": {
      "text/html": [
       "15.3647997747125"
      ],
      "text/latex": [
       "15.3647997747125"
      ],
      "text/markdown": [
       "15.3647997747125"
      ],
      "text/plain": [
       "[1] 15.3648"
      ]
     },
     "metadata": {},
     "output_type": "display_data"
    }
   ],
   "source": [
    "summary(aov.chicks)[[1]][1, \"F value\"]"
   ]
  },
  {
   "cell_type": "markdown",
   "metadata": {},
   "source": [
    "### c)"
   ]
  },
  {
   "cell_type": "code",
   "execution_count": 55,
   "metadata": {
    "ExecuteTime": {
     "end_time": "2019-07-16T14:46:57.004205Z",
     "start_time": "2019-07-16T14:46:56.971Z"
    }
   },
   "outputs": [],
   "source": [
    "n = 1000"
   ]
  },
  {
   "cell_type": "code",
   "execution_count": 62,
   "metadata": {
    "ExecuteTime": {
     "end_time": "2019-07-16T14:49:01.789125Z",
     "start_time": "2019-07-16T14:48:59.556Z"
    }
   },
   "outputs": [],
   "source": [
    "repl = replicate(n, {\n",
    "    sampled_feeds = sample(chickwts$feed)\n",
    "    aov_res = aov(chickwts$weight ~ sampled_feeds)\n",
    "    summary(aov_res)[[1]][1, \"F value\"]\n",
    "    }\n",
    ")"
   ]
  },
  {
   "cell_type": "code",
   "execution_count": 69,
   "metadata": {
    "ExecuteTime": {
     "end_time": "2019-07-16T14:52:38.665172Z",
     "start_time": "2019-07-16T14:52:38.218Z"
    }
   },
   "outputs": [
    {
     "name": "stderr",
     "output_type": "stream",
     "text": [
      "`stat_bin()` using `bins = 30`. Pick better value with `binwidth`.\n"
     ]
    },
    {
     "data": {
      "image/png": "[encoded data removed]",
      "text/plain": [
       "plot without title"
      ]
     },
     "metadata": {},
     "output_type": "display_data"
    }
   ],
   "source": [
    "ggplot(data.frame(x = repl), aes(x, stat(density))) + \n",
    "       geom_histogram() + \n",
    "       geom_density()"
   ]
  },
  {
   "cell_type": "markdown",
   "metadata": {
    "ExecuteTime": {
     "end_time": "2019-07-01T17:27:13.822726Z",
     "start_time": "2019-07-01T17:27:13.788Z"
    }
   },
   "source": [
    "### e)"
   ]
  },
  {
   "cell_type": "code",
   "execution_count": 70,
   "metadata": {
    "ExecuteTime": {
     "end_time": "2019-07-16T15:46:51.640164Z",
     "start_time": "2019-07-16T15:46:51.613Z"
    }
   },
   "outputs": [],
   "source": [
    "weight.soybean = chickwts$weight[chickwts$feed == \"soybean\"]\n",
    "weight.linseed = chickwts$weight[chickwts$feed == \"linseed\"]"
   ]
  },
  {
   "cell_type": "code",
   "execution_count": 71,
   "metadata": {
    "ExecuteTime": {
     "end_time": "2019-07-16T15:47:36.463174Z",
     "start_time": "2019-07-16T15:47:36.417Z"
    }
   },
   "outputs": [],
   "source": [
    "ecdf.soybean = ecdf(weight.soybean)\n",
    "ecdf.linseed = ecdf(weight.linseed)"
   ]
  },
  {
   "cell_type": "code",
   "execution_count": 75,
   "metadata": {
    "ExecuteTime": {
     "end_time": "2019-07-16T15:50:08.654648Z",
     "start_time": "2019-07-16T15:50:08.623Z"
    }
   },
   "outputs": [],
   "source": [
    "weights = sort(unique(c(weight.soybean, weight.linseed)))"
   ]
  },
  {
   "cell_type": "code",
   "execution_count": 80,
   "metadata": {
    "ExecuteTime": {
     "end_time": "2019-07-16T15:53:31.504505Z",
     "start_time": "2019-07-16T15:53:31.472Z"
    }
   },
   "outputs": [],
   "source": [
    "ecdf.diff = abs(ecdf.linseed(weights) - ecdf.soybean(weights))"
   ]
  },
  {
   "cell_type": "code",
   "execution_count": 82,
   "metadata": {
    "ExecuteTime": {
     "end_time": "2019-07-16T15:54:00.485172Z",
     "start_time": "2019-07-16T15:54:00.445Z"
    }
   },
   "outputs": [
    {
     "data": {
      "text/html": [
       "0.297619047619048"
      ],
      "text/latex": [
       "0.297619047619048"
      ],
      "text/markdown": [
       "0.297619047619048"
      ],
      "text/plain": [
       "[1] 0.297619"
      ]
     },
     "metadata": {},
     "output_type": "display_data"
    }
   ],
   "source": [
    "max(ecdf.diff)"
   ]
  },
  {
   "cell_type": "code",
   "execution_count": 86,
   "metadata": {
    "ExecuteTime": {
     "end_time": "2019-07-16T15:59:06.880533Z",
     "start_time": "2019-07-16T15:59:06.835Z"
    }
   },
   "outputs": [
    {
     "name": "stderr",
     "output_type": "stream",
     "text": [
      "Warning message in ks.test(weight.soybean, weight.linseed):\n",
      "“cannot compute exact p-value with ties”"
     ]
    },
    {
     "data": {
      "text/plain": [
       "\n",
       "\tTwo-sample Kolmogorov-Smirnov test\n",
       "\n",
       "data:  weight.soybean and weight.linseed\n",
       "D = 0.29762, p-value = 0.6162\n",
       "alternative hypothesis: two-sided\n"
      ]
     },
     "metadata": {},
     "output_type": "display_data"
    }
   ],
   "source": [
    "ks.test(weight.soybean, weight.linseed)"
   ]
  },
  {
   "cell_type": "markdown",
   "metadata": {
    "ExecuteTime": {
     "end_time": "2019-07-01T17:40:16.887700Z",
     "start_time": "2019-07-01T17:40:16.861Z"
    }
   },
   "source": [
    "### f)"
   ]
  },
  {
   "cell_type": "code",
   "execution_count": 87,
   "metadata": {
    "ExecuteTime": {
     "end_time": "2019-07-16T16:15:02.042403Z",
     "start_time": "2019-07-16T16:15:01.817Z"
    }
   },
   "outputs": [],
   "source": [
    "union_weight = union(weight.soybean, weight.linseed)\n",
    "rep = replicate(n, {\n",
    "    indexes = sample(1:length(union_weight), 14, replace = FALSE)\n",
    "    soybean = union_weight[indexes]\n",
    "    linseed = union_weight[-indexes]\n",
    "    statistic = ks.test(soybean, linseed)$statistic\n",
    "})"
   ]
  },
  {
   "cell_type": "code",
   "execution_count": 99,
   "metadata": {
    "ExecuteTime": {
     "end_time": "2019-07-16T16:20:43.192667Z",
     "start_time": "2019-07-16T16:20:43.158Z"
    }
   },
   "outputs": [],
   "source": [
    "asl = mean(rep>=max(ecdf.diff))"
   ]
  },
  {
   "cell_type": "code",
   "execution_count": 100,
   "metadata": {
    "ExecuteTime": {
     "end_time": "2019-07-16T16:20:46.229020Z",
     "start_time": "2019-07-16T16:20:46.188Z"
    }
   },
   "outputs": [
    {
     "data": {
      "text/html": [
       "0.566"
      ],
      "text/latex": [
       "0.566"
      ],
      "text/markdown": [
       "0.566"
      ],
      "text/plain": [
       "[1] 0.566"
      ]
     },
     "metadata": {},
     "output_type": "display_data"
    }
   ],
   "source": [
    "asl"
   ]
  },
  {
   "cell_type": "code",
   "execution_count": 93,
   "metadata": {
    "ExecuteTime": {
     "end_time": "2019-07-16T16:17:28.391070Z",
     "start_time": "2019-07-16T16:17:28.045Z"
    }
   },
   "outputs": [
    {
     "name": "stderr",
     "output_type": "stream",
     "text": [
      "`stat_bin()` using `bins = 30`. Pick better value with `binwidth`.\n"
     ]
    },
    {
     "data": {
      "image/png": "[encoded data removed]",
      "text/plain": [
       "plot without title"
      ]
     },
     "metadata": {},
     "output_type": "display_data"
    }
   ],
   "source": [
    "ggplot(data.frame(x=rep), aes(x)) + \n",
    "       geom_histogram()"
   ]
  },
  {
   "cell_type": "markdown",
   "metadata": {
    "ExecuteTime": {
     "end_time": "2019-07-02T10:16:24.541938Z",
     "start_time": "2019-07-02T10:16:24.482Z"
    }
   },
   "source": [
    "### Problem 3"
   ]
  },
  {
   "cell_type": "code",
   "execution_count": 128,
   "metadata": {
    "ExecuteTime": {
     "end_time": "2019-07-16T16:34:59.095011Z",
     "start_time": "2019-07-16T16:34:59.045Z"
    }
   },
   "outputs": [],
   "source": [
    "LSAT = weight.soybean\n",
    "GPA = c(weight.linseed, 287, 291)\n",
    "n = length(LSAT)\n",
    "theta = numeric(n)\n",
    "theta_hat = cor(LSAT, GPA)"
   ]
  },
  {
   "cell_type": "code",
   "execution_count": 129,
   "metadata": {
    "ExecuteTime": {
     "end_time": "2019-07-16T16:34:59.415139Z",
     "start_time": "2019-07-16T16:34:59.382Z"
    }
   },
   "outputs": [],
   "source": [
    "for (i in 1:n){\n",
    "    theta[i] = cor(LSAT[-i], GPA[-i])\n",
    "}\n",
    "theta_mean = mean(theta)"
   ]
  },
  {
   "cell_type": "code",
   "execution_count": 130,
   "metadata": {
    "ExecuteTime": {
     "end_time": "2019-07-16T16:34:59.741100Z",
     "start_time": "2019-07-16T16:34:59.710Z"
    }
   },
   "outputs": [
    {
     "data": {
      "text/html": [
       "0.0128445170999177"
      ],
      "text/latex": [
       "0.0128445170999177"
      ],
      "text/markdown": [
       "0.0128445170999177"
      ],
      "text/plain": [
       "[1] 0.01284452"
      ]
     },
     "metadata": {},
     "output_type": "display_data"
    }
   ],
   "source": [
    "bias = (n-1)*(theta_mean - theta_hat)\n",
    "bias "
   ]
  },
  {
   "cell_type": "code",
   "execution_count": 133,
   "metadata": {
    "ExecuteTime": {
     "end_time": "2019-07-16T16:35:48.062826Z",
     "start_time": "2019-07-16T16:35:48.011Z"
    }
   },
   "outputs": [
    {
     "data": {
      "text/html": [
       "3.74165737745585"
      ],
      "text/latex": [
       "3.74165737745585"
      ],
      "text/markdown": [
       "3.74165737745585"
      ],
      "text/plain": [
       "[1] 3.741657"
      ]
     },
     "metadata": {},
     "output_type": "display_data"
    }
   ],
   "source": [
    "se = sqrt(n-1/n*sum(theta_hat- theta_mean)^2)\n",
    "se"
   ]
  },
  {
   "cell_type": "markdown",
   "metadata": {
    "ExecuteTime": {
     "end_time": "2019-07-16T16:40:10.321790Z",
     "start_time": "2019-07-16T16:40:10.292Z"
    }
   },
   "source": [
    "### Problem 4"
   ]
  },
  {
   "cell_type": "code",
   "execution_count": 162,
   "metadata": {
    "ExecuteTime": {
     "end_time": "2019-07-16T17:34:27.932887Z",
     "start_time": "2019-07-16T17:34:27.898Z"
    }
   },
   "outputs": [],
   "source": [
    "groups = c(rep(1:26, each=2), 26)\n",
    "ironslag$groups = sample(groups)"
   ]
  },
  {
   "cell_type": "code",
   "execution_count": 174,
   "metadata": {
    "ExecuteTime": {
     "end_time": "2019-07-16T17:38:08.573075Z",
     "start_time": "2019-07-16T17:38:08.542Z"
    }
   },
   "outputs": [],
   "source": [
    "error_list = numeric(4)"
   ]
  },
  {
   "cell_type": "code",
   "execution_count": 175,
   "metadata": {
    "ExecuteTime": {
     "end_time": "2019-07-16T17:38:10.450331Z",
     "start_time": "2019-07-16T17:38:10.264Z"
    }
   },
   "outputs": [],
   "source": [
    "for (id in 1:26){\n",
    "    train = ironslag[!ironslag$groups %in% id, ]\n",
    "    test = ironslag[ironslag$groups %in% id, ]\n",
    "    \n",
    "    models = list(lm(magnetic ~ chemical + I(chemical^2), data=train), \n",
    "               lm(log(magnetic)~log(chemical)), data=train)\n",
    "    for (i in length(models)){\n",
    "        model = lm(magnetic ~ chemical + I(chemical^2), data=train)\n",
    "        y_hat = predict(model, newdata = test)\n",
    "        error_list[i] = mean((test$magnetic - y_hat)^2)\n",
    "    }\n",
    "}"
   ]
  },
  {
   "cell_type": "code",
   "execution_count": 176,
   "metadata": {
    "ExecuteTime": {
     "end_time": "2019-07-16T17:38:14.994330Z",
     "start_time": "2019-07-16T17:38:14.951Z"
    }
   },
   "outputs": [
    {
     "data": {
      "text/html": [
       "<ol class=list-inline>\n",
       "\t<li>0</li>\n",
       "\t<li>0</li>\n",
       "\t<li>7.70168405719487</li>\n",
       "\t<li>0</li>\n",
       "</ol>\n"
      ],
      "text/latex": [
       "\\begin{enumerate*}\n",
       "\\item 0\n",
       "\\item 0\n",
       "\\item 7.70168405719487\n",
       "\\item 0\n",
       "\\end{enumerate*}\n"
      ],
      "text/markdown": [
       "1. 0\n",
       "2. 0\n",
       "3. 7.70168405719487\n",
       "4. 0\n",
       "\n",
       "\n"
      ],
      "text/plain": [
       "[1] 0.000000 0.000000 7.701684 0.000000"
      ]
     },
     "metadata": {},
     "output_type": "display_data"
    }
   ],
   "source": [
    "error_list"
   ]
  },
  {
   "cell_type": "code",
   "execution_count": null,
   "metadata": {},
   "outputs": [],
   "source": []
  }
 ],
 "metadata": {
  "hide_input": false,
  "kernelspec": {
   "display_name": "R",
   "language": "R",
   "name": "ir"
  },
  "language_info": {
   "codemirror_mode": "r",
   "file_extension": ".r",
   "mimetype": "text/x-r-source",
   "name": "R",
   "pygments_lexer": "r",
   "version": "3.5.2"
  }
 },
 "nbformat": 4,
 "nbformat_minor": 2
}
