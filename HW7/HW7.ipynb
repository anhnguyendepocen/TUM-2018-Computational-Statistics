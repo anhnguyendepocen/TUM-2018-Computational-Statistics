{
 "cells": [
  {
   "cell_type": "markdown",
   "metadata": {},
   "source": [
    "### Problem 1"
   ]
  },
  {
   "cell_type": "code",
   "execution_count": 7,
   "metadata": {
    "ExecuteTime": {
     "end_time": "2019-07-15T10:20:41.012474Z",
     "start_time": "2019-07-15T10:20:40.975Z"
    }
   },
   "outputs": [],
   "source": [
    "x = runif(1, 0, 100)\n",
    "a = log(exp(x))\n",
    "b = exp(log(x))"
   ]
  },
  {
   "cell_type": "code",
   "execution_count": 8,
   "metadata": {
    "ExecuteTime": {
     "end_time": "2019-07-15T10:20:41.198808Z",
     "start_time": "2019-07-15T10:20:41.167Z"
    }
   },
   "outputs": [
    {
     "data": {
      "text/html": [
       "TRUE"
      ],
      "text/latex": [
       "TRUE"
      ],
      "text/markdown": [
       "TRUE"
      ],
      "text/plain": [
       "[1] TRUE"
      ]
     },
     "metadata": {},
     "output_type": "display_data"
    }
   ],
   "source": [
    "x == a\n",
    "x == b\n",
    "a == b"
   ]
  },
  {
   "cell_type": "code",
   "execution_count": 12,
   "metadata": {
    "ExecuteTime": {
     "end_time": "2019-07-15T10:21:11.299359Z",
     "start_time": "2019-07-15T10:21:11.264Z"
    }
   },
   "outputs": [
    {
     "data": {
      "text/html": [
       "TRUE"
      ],
      "text/latex": [
       "TRUE"
      ],
      "text/markdown": [
       "TRUE"
      ],
      "text/plain": [
       "[1] TRUE"
      ]
     },
     "metadata": {},
     "output_type": "display_data"
    }
   ],
   "source": [
    "all.equal(x, a)\n",
    "all.equal(x, b)\n",
    "all.equal(a, b)"
   ]
  },
  {
   "cell_type": "markdown",
   "metadata": {},
   "source": [
    "### Problem 2"
   ]
  },
  {
   "cell_type": "code",
   "execution_count": 14,
   "metadata": {
    "ExecuteTime": {
     "end_time": "2019-07-15T10:32:48.005427Z",
     "start_time": "2019-07-15T10:32:47.972Z"
    }
   },
   "outputs": [],
   "source": [
    "my.dcaushy = function(x, eta, theta){\n",
    "    stopifnot(theta>0)\n",
    "    return (1/(theta*p*(1+((x-eta)/theta)^2)))\n",
    "}"
   ]
  },
  {
   "cell_type": "code",
   "execution_count": 15,
   "metadata": {
    "ExecuteTime": {
     "end_time": "2019-07-15T10:32:48.496566Z",
     "start_time": "2019-07-15T10:32:48.468Z"
    }
   },
   "outputs": [],
   "source": [
    "my.pcaushy = function(x, eta, ...){\n",
    "    stopifnot(theta>0)\n",
    "    integral = integrate(my.dcauchy, lower=-inf, upper=x, eta=eta, theta=theta)\n",
    "    return (intergral$value)\n",
    "}"
   ]
  },
  {
   "cell_type": "code",
   "execution_count": null,
   "metadata": {},
   "outputs": [],
   "source": [
    "thata = 4\n",
    "n = 100\n",
    "u = runif(n, 0, thata)"
   ]
  },
  {
   "cell_type": "code",
   "execution_count": null,
   "metadata": {},
   "outputs": [],
   "source": []
  },
  {
   "cell_type": "markdown",
   "metadata": {},
   "source": [
    "### Problem 3"
   ]
  },
  {
   "cell_type": "markdown",
   "metadata": {},
   "source": [
    "#### look at the picture"
   ]
  },
  {
   "cell_type": "code",
   "execution_count": 16,
   "metadata": {
    "ExecuteTime": {
     "end_time": "2019-07-15T10:43:54.306882Z",
     "start_time": "2019-07-15T10:43:54.279Z"
    }
   },
   "outputs": [],
   "source": [
    "equation = function(alpha, xbar, log.xbar){\n",
    "    return (log(alpha/xbar) - digamma(alpha) + log.xbar)\n",
    "}"
   ]
  },
  {
   "cell_type": "code",
   "execution_count": 19,
   "metadata": {
    "ExecuteTime": {
     "end_time": "2019-07-15T10:46:46.330266Z",
     "start_time": "2019-07-15T10:46:46.280Z"
    }
   },
   "outputs": [
    {
     "ename": "ERROR",
     "evalue": "Error in f(lower, ...): object 'xbar' not found\n",
     "output_type": "error",
     "traceback": [
      "Error in f(lower, ...): object 'xbar' not found\nTraceback:\n",
      "1. uniroot(equation, lower = 1e-04, upper = 10000, xbar = xbar, \n .     log.xbar = log.xbar)",
      "2. f(lower, ...)"
     ]
    }
   ],
   "source": [
    "u = uniroot(equation, lower=0.0001, upper=10000, xbar = xbar, log.xbar = log.xbar)\n",
    "alpha.hat = u$root\n",
    "beta.hat = alpha.hat/xbar"
   ]
  },
  {
   "cell_type": "markdown",
   "metadata": {},
   "source": [
    "### Problem 4"
   ]
  },
  {
   "cell_type": "code",
   "execution_count": null,
   "metadata": {},
   "outputs": [],
   "source": []
  }
 ],
 "metadata": {
  "hide_input": false,
  "kernelspec": {
   "display_name": "R",
   "language": "R",
   "name": "ir"
  },
  "language_info": {
   "codemirror_mode": "r",
   "file_extension": ".r",
   "mimetype": "text/x-r-source",
   "name": "R",
   "pygments_lexer": "r",
   "version": "3.5.2"
  }
 },
 "nbformat": 4,
 "nbformat_minor": 2
}
